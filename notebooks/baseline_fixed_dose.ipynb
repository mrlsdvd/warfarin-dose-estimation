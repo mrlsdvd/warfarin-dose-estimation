{
 "cells": [
  {
   "cell_type": "code",
   "execution_count": 3,
   "metadata": {},
   "outputs": [],
   "source": [
    "import numpy as np\n",
    "import pandas"
   ]
  },
  {
   "cell_type": "code",
   "execution_count": 4,
   "metadata": {},
   "outputs": [],
   "source": [
    "# load data\n",
    "df = pandas.read_csv(\"../data/data.csv\", delimiter=',')"
   ]
  },
  {
   "cell_type": "code",
   "execution_count": 7,
   "metadata": {},
   "outputs": [
    {
     "name": "stdout",
     "output_type": "stream",
     "text": [
      "(5528,)\n"
     ]
    }
   ],
   "source": [
    "# we will guess 1 (5 mg/day) for all \n",
    "df_predicted = np.ones((df.shape[0]))\n",
    "\n",
    "df_true = df[\"Therapeutic_Dose_of_Warfarin\"]\n",
    "\n",
    "print(df_true.shape)"
   ]
  },
  {
   "cell_type": "code",
   "execution_count": 8,
   "metadata": {},
   "outputs": [
    {
     "name": "stdout",
     "output_type": "stream",
     "text": [
      "df acc: 0.611794500723589\n"
     ]
    }
   ],
   "source": [
    "# compute accuracies\n",
    "\n",
    "from sklearn.metrics import accuracy_score\n",
    "\n",
    "df_acc = accuracy_score(df_true, df_predicted)\n",
    "print(\"df acc: \" + str(df_acc))"
   ]
  },
  {
   "cell_type": "code",
   "execution_count": null,
   "metadata": {},
   "outputs": [],
   "source": [
    "regret = np.zeros()\n",
    "frac_of_new\n",
    "\n",
    "for elem in rage"
   ]
  }
 ],
 "metadata": {
  "kernelspec": {
   "display_name": "Python 2",
   "language": "python",
   "name": "python2"
  },
  "language_info": {
   "codemirror_mode": {
    "name": "ipython",
    "version": 2
   },
   "file_extension": ".py",
   "mimetype": "text/x-python",
   "name": "python",
   "nbconvert_exporter": "python",
   "pygments_lexer": "ipython2",
   "version": "2.7.14"
  }
 },
 "nbformat": 4,
 "nbformat_minor": 2
}
