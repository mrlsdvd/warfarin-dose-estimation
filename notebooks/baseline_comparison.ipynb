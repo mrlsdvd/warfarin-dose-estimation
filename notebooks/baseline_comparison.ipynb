{
 "cells": [
  {
   "cell_type": "code",
   "execution_count": 1,
   "metadata": {},
   "outputs": [],
   "source": [
    "# Add related paths to system path\n",
    "import sys\n",
    "sys.path.append(\"../src\")\n",
    "\n",
    "import numpy as np\n",
    "import pandas\n",
    "from models import FDBaseline, PDABaseline, CDABaseline\n",
    "from evaluate import Evaluator"
   ]
  },
  {
   "cell_type": "code",
   "execution_count": 9,
   "metadata": {},
   "outputs": [
    {
     "name": "stderr",
     "output_type": "stream",
     "text": [
      "/Users/mrlsdvd/Projects/Environments/.warfarin_dose_env/lib/python3.6/site-packages/ipykernel_launcher.py:5: FutureWarning: Sorting because non-concatenation axis is not aligned. A future version\n",
      "of pandas will change to not sort by default.\n",
      "\n",
      "To accept the future behavior, pass 'sort=False'.\n",
      "\n",
      "To retain the current behavior and silence the warning, pass 'sort=True'.\n",
      "\n",
      "  \"\"\"\n"
     ]
    }
   ],
   "source": [
    "# Load data\n",
    "train = pandas.read_csv(\"../data/train.csv\", delimiter=',')\n",
    "val = pandas.read_csv(\"../data/val.csv\", delimiter=',')\n",
    "test = pandas.read_csv(\"../data/test.csv\", delimiter=',')\n",
    "complete = pandas.concat([train, val, test])"
   ]
  },
  {
   "cell_type": "code",
   "execution_count": 3,
   "metadata": {},
   "outputs": [],
   "source": [
    "# Define baseline models\n",
    "fixed = FDBaseline(1) # Define fixed dosage to be 1 (5mg / day)\n",
    "pharm = PDABaseline()\n",
    "clinic = CDABaseline()"
   ]
  },
  {
   "cell_type": "code",
   "execution_count": 11,
   "metadata": {},
   "outputs": [],
   "source": [
    "# Get data for all baselines\n",
    "\n",
    "# Fixed dosage baseline\n",
    "fixed_train_features = fixed.get_features(train)\n",
    "fixed_val_features = fixed.get_features(val)\n",
    "fixed_test_features = fixed.get_features(test)\n",
    "fixed_complete_features = fixed.get_features(complete)\n",
    "\n",
    "# Pharmacogenetic dosage baseline\n",
    "pharm_train_features = pharm.get_features(train)\n",
    "pharm_val_features = pharm.get_features(val)\n",
    "pharm_test_features = pharm.get_features(test)\n",
    "pharm_complete_features = pharm.get_features(complete)\n",
    "\n",
    "# Clinical dosage baseline\n",
    "clinic_train_features = clinic.get_features(train)\n",
    "clinic_val_features = clinic.get_features(val)\n",
    "clinic_test_features = clinic.get_features(test)\n",
    "clinic_complete_features = clinic.get_features(complete)\n",
    "\n",
    "# Get targets for each set (same targets for each baseline)\n",
    "targets_train = fixed.get_targets(train)\n",
    "targets_val = fixed.get_targets(val)\n",
    "targets_test = fixed.get_targets(test)\n",
    "targets_complete = fixed.get_targets(complete)"
   ]
  },
  {
   "cell_type": "code",
   "execution_count": 12,
   "metadata": {},
   "outputs": [],
   "source": [
    "# Define evaluators for each model\n",
    "fixed_eval = Evaluator(fixed)\n",
    "pharm_eval = Evaluator(pharm)\n",
    "clinic_eval = Evaluator(clinic)"
   ]
  },
  {
   "cell_type": "code",
   "execution_count": 16,
   "metadata": {},
   "outputs": [
    {
     "name": "stdout",
     "output_type": "stream",
     "text": [
      "train acc: 0.6123925825418363\n",
      "val acc: 0.5895117540687161\n",
      "test acc: 0.6292947558770343\n",
      "Total acc: 0.611794500723589\n"
     ]
    }
   ],
   "source": [
    "# Evaluate fixed baseline\n",
    "fixed_train_acc = fixed_eval.accuracy(fixed_train_features.values, targets_train.values)\n",
    "print(\"train acc: \" + str(fixed_train_acc))\n",
    "\n",
    "fixed_val_acc = fixed_eval.accuracy(fixed_val_features.values, targets_val.values)\n",
    "print(\"val acc: \" + str(fixed_val_acc))\n",
    "\n",
    "fixed_test_acc = fixed_eval.accuracy(fixed_test_features.values, targets_test.values)\n",
    "print(\"test acc: \" + str(fixed_test_acc))\n",
    "\n",
    "fixed_complete_acc = fixed_eval.accuracy(fixed_complete_features.values, targets_complete.values)\n",
    "print(\"Total acc: \" + str(fixed_complete_acc))"
   ]
  },
  {
   "cell_type": "code",
   "execution_count": 19,
   "metadata": {},
   "outputs": [
    {
     "name": "stdout",
     "output_type": "stream",
     "text": [
      "train acc: 0.6838983050847458\n",
      "val acc: 0.7044444444444444\n",
      "test acc: 0.6885245901639344\n",
      "Total acc: 0.6864387593389178\n"
     ]
    }
   ],
   "source": [
    "# Evaluate Pharmacogenetic baseline\n",
    "pharm_train_acc = pharm_eval.accuracy(pharm_train_features.values[~np.isnan(pharm_train_features).any(axis=1)], targets_train.values[~np.isnan(pharm_train_features).any(axis=1)])\n",
    "print(\"train acc: \" + str(pharm_train_acc))\n",
    "\n",
    "pharm_val_acc = pharm_eval.accuracy(pharm_val_features.values[~np.isnan(pharm_val_features).any(axis=1)], targets_val.values[~np.isnan(pharm_val_features).any(axis=1)])\n",
    "print(\"val acc: \" + str(pharm_val_acc))\n",
    "\n",
    "pharm_test_acc = pharm_eval.accuracy(pharm_test_features.values[~np.isnan(pharm_test_features).any(axis=1)], targets_test.values[~np.isnan(pharm_test_features).any(axis=1)])\n",
    "print(\"test acc: \" + str(pharm_test_acc))\n",
    "\n",
    "pharm_complete_acc = pharm_eval.accuracy(pharm_complete_features.values[~np.isnan(pharm_complete_features).any(axis=1)], targets_complete.values[~np.isnan(pharm_complete_features).any(axis=1)])\n",
    "print(\"Total acc: \" + str(pharm_complete_acc))"
   ]
  },
  {
   "cell_type": "code",
   "execution_count": 18,
   "metadata": {},
   "outputs": [
    {
     "name": "stdout",
     "output_type": "stream",
     "text": [
      "train acc: 0.6477401129943503\n",
      "val acc: 0.6622222222222223\n",
      "test acc: 0.6463700234192038\n"
     ]
    },
    {
     "ename": "ValueError",
     "evalue": "Classification metrics can't handle a mix of multiclass and continuous targets",
     "output_type": "error",
     "traceback": [
      "\u001b[0;31m---------------------------------------------------------------------------\u001b[0m",
      "\u001b[0;31mValueError\u001b[0m                                Traceback (most recent call last)",
      "\u001b[0;32m<ipython-input-18-16250d12e95f>\u001b[0m in \u001b[0;36m<module>\u001b[0;34m\u001b[0m\n\u001b[1;32m      9\u001b[0m \u001b[0mprint\u001b[0m\u001b[0;34m(\u001b[0m\u001b[0;34m\"test acc: \"\u001b[0m \u001b[0;34m+\u001b[0m \u001b[0mstr\u001b[0m\u001b[0;34m(\u001b[0m\u001b[0mclinic_test_acc\u001b[0m\u001b[0;34m)\u001b[0m\u001b[0;34m)\u001b[0m\u001b[0;34m\u001b[0m\u001b[0m\n\u001b[1;32m     10\u001b[0m \u001b[0;34m\u001b[0m\u001b[0m\n\u001b[0;32m---> 11\u001b[0;31m \u001b[0mclinic_complete_acc\u001b[0m \u001b[0;34m=\u001b[0m \u001b[0mclinic_eval\u001b[0m\u001b[0;34m.\u001b[0m\u001b[0maccuracy\u001b[0m\u001b[0;34m(\u001b[0m\u001b[0mclinic_complete_features\u001b[0m\u001b[0;34m.\u001b[0m\u001b[0mvalues\u001b[0m\u001b[0;34m,\u001b[0m \u001b[0mtargets_complete\u001b[0m\u001b[0;34m.\u001b[0m\u001b[0mvalues\u001b[0m\u001b[0;34m)\u001b[0m\u001b[0;34m\u001b[0m\u001b[0m\n\u001b[0m\u001b[1;32m     12\u001b[0m \u001b[0mprint\u001b[0m\u001b[0;34m(\u001b[0m\u001b[0;34m\"Total acc: \"\u001b[0m \u001b[0;34m+\u001b[0m \u001b[0mstr\u001b[0m\u001b[0;34m(\u001b[0m\u001b[0mclinic_complete_acc\u001b[0m\u001b[0;34m)\u001b[0m\u001b[0;34m)\u001b[0m\u001b[0;34m\u001b[0m\u001b[0m\n",
      "\u001b[0;32m~/Projects/WarfarinDoseEstimation/src/evaluate.py\u001b[0m in \u001b[0;36maccuracy\u001b[0;34m(self, data, actual)\u001b[0m\n\u001b[1;32m     26\u001b[0m         \"\"\"\n\u001b[1;32m     27\u001b[0m         \u001b[0mpredicted\u001b[0m \u001b[0;34m=\u001b[0m \u001b[0mself\u001b[0m\u001b[0;34m.\u001b[0m\u001b[0mmodel\u001b[0m\u001b[0;34m.\u001b[0m\u001b[0mpredict\u001b[0m\u001b[0;34m(\u001b[0m\u001b[0mdata\u001b[0m\u001b[0;34m)\u001b[0m\u001b[0;34m\u001b[0m\u001b[0m\n\u001b[0;32m---> 28\u001b[0;31m         \u001b[0;32mreturn\u001b[0m \u001b[0maccuracy_score\u001b[0m\u001b[0;34m(\u001b[0m\u001b[0mactual\u001b[0m\u001b[0;34m,\u001b[0m \u001b[0mpredicted\u001b[0m\u001b[0;34m)\u001b[0m\u001b[0;34m\u001b[0m\u001b[0m\n\u001b[0m",
      "\u001b[0;32m~/Projects/Environments/.warfarin_dose_env/lib/python3.6/site-packages/sklearn/metrics/classification.py\u001b[0m in \u001b[0;36maccuracy_score\u001b[0;34m(y_true, y_pred, normalize, sample_weight)\u001b[0m\n\u001b[1;32m    174\u001b[0m \u001b[0;34m\u001b[0m\u001b[0m\n\u001b[1;32m    175\u001b[0m     \u001b[0;31m# Compute accuracy for each possible representation\u001b[0m\u001b[0;34m\u001b[0m\u001b[0;34m\u001b[0m\u001b[0m\n\u001b[0;32m--> 176\u001b[0;31m     \u001b[0my_type\u001b[0m\u001b[0;34m,\u001b[0m \u001b[0my_true\u001b[0m\u001b[0;34m,\u001b[0m \u001b[0my_pred\u001b[0m \u001b[0;34m=\u001b[0m \u001b[0m_check_targets\u001b[0m\u001b[0;34m(\u001b[0m\u001b[0my_true\u001b[0m\u001b[0;34m,\u001b[0m \u001b[0my_pred\u001b[0m\u001b[0;34m)\u001b[0m\u001b[0;34m\u001b[0m\u001b[0m\n\u001b[0m\u001b[1;32m    177\u001b[0m     \u001b[0mcheck_consistent_length\u001b[0m\u001b[0;34m(\u001b[0m\u001b[0my_true\u001b[0m\u001b[0;34m,\u001b[0m \u001b[0my_pred\u001b[0m\u001b[0;34m,\u001b[0m \u001b[0msample_weight\u001b[0m\u001b[0;34m)\u001b[0m\u001b[0;34m\u001b[0m\u001b[0m\n\u001b[1;32m    178\u001b[0m     \u001b[0;32mif\u001b[0m \u001b[0my_type\u001b[0m\u001b[0;34m.\u001b[0m\u001b[0mstartswith\u001b[0m\u001b[0;34m(\u001b[0m\u001b[0;34m'multilabel'\u001b[0m\u001b[0;34m)\u001b[0m\u001b[0;34m:\u001b[0m\u001b[0;34m\u001b[0m\u001b[0m\n",
      "\u001b[0;32m~/Projects/Environments/.warfarin_dose_env/lib/python3.6/site-packages/sklearn/metrics/classification.py\u001b[0m in \u001b[0;36m_check_targets\u001b[0;34m(y_true, y_pred)\u001b[0m\n\u001b[1;32m     79\u001b[0m     \u001b[0;32mif\u001b[0m \u001b[0mlen\u001b[0m\u001b[0;34m(\u001b[0m\u001b[0my_type\u001b[0m\u001b[0;34m)\u001b[0m \u001b[0;34m>\u001b[0m \u001b[0;36m1\u001b[0m\u001b[0;34m:\u001b[0m\u001b[0;34m\u001b[0m\u001b[0m\n\u001b[1;32m     80\u001b[0m         raise ValueError(\"Classification metrics can't handle a mix of {0} \"\n\u001b[0;32m---> 81\u001b[0;31m                          \"and {1} targets\".format(type_true, type_pred))\n\u001b[0m\u001b[1;32m     82\u001b[0m \u001b[0;34m\u001b[0m\u001b[0m\n\u001b[1;32m     83\u001b[0m     \u001b[0;31m# We can't have more than one value on y_type => The set is no more needed\u001b[0m\u001b[0;34m\u001b[0m\u001b[0;34m\u001b[0m\u001b[0m\n",
      "\u001b[0;31mValueError\u001b[0m: Classification metrics can't handle a mix of multiclass and continuous targets"
     ]
    }
   ],
   "source": [
    "# Evaluate Clinical baseline\n",
    "clinic_train_acc = clinic_eval.accuracy(clinic_train_features.values[~np.isnan(clinic_train_features).any(axis=1)], targets_train.values[~np.isnan(clinic_train_features).any(axis=1)])\n",
    "print(\"train acc: \" + str(clinic_train_acc))\n",
    "\n",
    "clinic_val_acc = clinic_eval.accuracy(clinic_val_features.values[~np.isnan(clinic_val_features).any(axis=1)], targets_val.values[~np.isnan(clinic_val_features).any(axis=1)])\n",
    "print(\"val acc: \" + str(clinic_val_acc))\n",
    "\n",
    "clinic_test_acc = clinic_eval.accuracy(clinic_test_features.values[~np.isnan(clinic_test_features).any(axis=1)], targets_test.values[~np.isnan(clinic_test_features).any(axis=1)])\n",
    "print(\"test acc: \" + str(clinic_test_acc))\n",
    "\n",
    "clinic_complete_acc = clinic_eval.accuracy(clinic_complete_features.values[~np.isnan(clinic_complete_features).any(axis=1)], targets_complete.values)\n",
    "print(\"Total acc: \" + str(clinic_complete_acc))"
   ]
  },
  {
   "cell_type": "code",
   "execution_count": null,
   "metadata": {},
   "outputs": [],
   "source": []
  }
 ],
 "metadata": {
  "kernelspec": {
   "display_name": "Python 3",
   "language": "python",
   "name": "python3"
  },
  "language_info": {
   "codemirror_mode": {
    "name": "ipython",
    "version": 3
   },
   "file_extension": ".py",
   "mimetype": "text/x-python",
   "name": "python",
   "nbconvert_exporter": "python",
   "pygments_lexer": "ipython3",
   "version": "3.6.4"
  }
 },
 "nbformat": 4,
 "nbformat_minor": 2
}
