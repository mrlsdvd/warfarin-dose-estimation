{
 "cells": [
  {
   "cell_type": "code",
   "execution_count": 1,
   "metadata": {},
   "outputs": [],
   "source": [
    "# Add related paths to system path\n",
    "import sys\n",
    "sys.path.append(\"../src\")\n",
    "\n",
    "import numpy as np\n",
    "import pandas\n",
    "from models import FDBaseline, PDABaseline, CDABaseline\n",
    "from evaluate import Evaluator"
   ]
  },
  {
   "cell_type": "code",
   "execution_count": 2,
   "metadata": {},
   "outputs": [],
   "source": [
    "# Load data\n",
    "train = pandas.read_csv(\"../data/train.csv\", delimiter=',')\n",
    "val = pandas.read_csv(\"../data/val.csv\", delimiter=',')\n",
    "test = pandas.read_csv(\"../data/test.csv\", delimiter=',')"
   ]
  },
  {
   "cell_type": "code",
   "execution_count": 3,
   "metadata": {},
   "outputs": [],
   "source": [
    "# Define baseline models\n",
    "fixed = FDBaseline(1) # Define fixed dosage to be 1 (5mg / day)\n",
    "pharm = PDABaseline()\n",
    "clinic = CDABaseline()"
   ]
  },
  {
   "cell_type": "code",
   "execution_count": 4,
   "metadata": {},
   "outputs": [],
   "source": [
    "# Get data for all baselines\n",
    "\n",
    "# Fixed dosage baseline\n",
    "fixed_train_features = fixed.get_features(train)\n",
    "fixed_val_features = fixed.get_features(val)\n",
    "fixed_test_features = fixed.get_features(test)\n",
    "\n",
    "# Pharmacogenetic dosage baseline\n",
    "pharm_train_features = pharm.get_features(train)\n",
    "pharm_val_features = pharm.get_features(val)\n",
    "pharm_test_features = pharm.get_features(test)\n",
    "\n",
    "# Clinical dosage baseline\n",
    "clinic_train_features = clinic.get_features(train)\n",
    "clinic_val_features = clinic.get_features(val)\n",
    "clinic_test_features = clinic.get_features(test)\n",
    "\n",
    "# Get targets for each set (same targets for each baseline)\n",
    "targets_train = fixed.get_targets(train)\n",
    "targets_val = fixed.get_targets(val)\n",
    "targets_test = fixed.get_targets(test)"
   ]
  },
  {
   "cell_type": "code",
   "execution_count": 5,
   "metadata": {},
   "outputs": [],
   "source": [
    "# Define evaluators for each model\n",
    "fixed_eval = Evaluator(fixed)\n",
    "pharm_eval = Evaluator(pharm)\n",
    "clinic_eval = Evaluator(clinic)"
   ]
  },
  {
   "cell_type": "code",
   "execution_count": 6,
   "metadata": {},
   "outputs": [
    {
     "name": "stdout",
     "output_type": "stream",
     "text": [
      "train acc: 0.6123925825418363\n",
      "val acc: 0.5895117540687161\n",
      "test acc: 0.6292947558770343\n"
     ]
    }
   ],
   "source": [
    "# Evaluate fixed baseline\n",
    "fixed_train_acc = fixed_eval.accuracy(fixed_train_features.values, targets_train.values)\n",
    "print(\"train acc: \" + str(fixed_train_acc))\n",
    "\n",
    "fixed_val_acc = fixed_eval.accuracy(fixed_val_features.values, targets_val.values)\n",
    "print(\"val acc: \" + str(fixed_val_acc))\n",
    "\n",
    "fixed_test_acc = fixed_eval.accuracy(fixed_test_features.values, targets_test.values)\n",
    "print(\"test acc: \" + str(fixed_test_acc))"
   ]
  },
  {
   "cell_type": "code",
   "execution_count": 7,
   "metadata": {},
   "outputs": [
    {
     "name": "stdout",
     "output_type": "stream",
     "text": [
      "train acc: 0.6838983050847458\n",
      "val acc: 0.7044444444444444\n",
      "test acc: 0.6885245901639344\n"
     ]
    }
   ],
   "source": [
    "# Evaluate Pharmacogenetic baseline\n",
    "pharm_train_acc = pharm_eval.accuracy(pharm_train_features.values[~np.isnan(pharm_train_features).any(axis=1)], targets_train.values[~np.isnan(pharm_train_features).any(axis=1)])\n",
    "print(\"train acc: \" + str(pharm_train_acc))\n",
    "\n",
    "pharm_val_acc = pharm_eval.accuracy(pharm_val_features.values[~np.isnan(pharm_val_features).any(axis=1)], targets_val.values[~np.isnan(pharm_val_features).any(axis=1)])\n",
    "print(\"val acc: \" + str(pharm_val_acc))\n",
    "\n",
    "pharm_test_acc = pharm_eval.accuracy(pharm_test_features.values[~np.isnan(pharm_test_features).any(axis=1)], targets_test.values[~np.isnan(pharm_test_features).any(axis=1)])\n",
    "print(\"test acc: \" + str(pharm_test_acc))"
   ]
  },
  {
   "cell_type": "code",
   "execution_count": 8,
   "metadata": {},
   "outputs": [
    {
     "name": "stdout",
     "output_type": "stream",
     "text": [
      "train acc: 0.6477401129943503\n",
      "val acc: 0.6622222222222223\n",
      "test acc: 0.6463700234192038\n"
     ]
    }
   ],
   "source": [
    "# Evaluate Clinical baseline\n",
    "clinic_train_acc = clinic_eval.accuracy(clinic_train_features.values[~np.isnan(clinic_train_features).any(axis=1)], targets_train.values[~np.isnan(clinic_train_features).any(axis=1)])\n",
    "print(\"train acc: \" + str(clinic_train_acc))\n",
    "\n",
    "clinic_val_acc = clinic_eval.accuracy(clinic_val_features.values[~np.isnan(clinic_val_features).any(axis=1)], targets_val.values[~np.isnan(clinic_val_features).any(axis=1)])\n",
    "print(\"val acc: \" + str(clinic_val_acc))\n",
    "\n",
    "clinic_test_acc = clinic_eval.accuracy(clinic_test_features.values[~np.isnan(clinic_test_features).any(axis=1)], targets_test.values[~np.isnan(clinic_test_features).any(axis=1)])\n",
    "print(\"test acc: \" + str(clinic_test_acc))"
   ]
  },
  {
   "cell_type": "code",
   "execution_count": null,
   "metadata": {},
   "outputs": [],
   "source": []
  }
 ],
 "metadata": {
  "kernelspec": {
   "display_name": "Python 3",
   "language": "python",
   "name": "python3"
  },
  "language_info": {
   "codemirror_mode": {
    "name": "ipython",
    "version": 3
   },
   "file_extension": ".py",
   "mimetype": "text/x-python",
   "name": "python",
   "nbconvert_exporter": "python",
   "pygments_lexer": "ipython3",
   "version": "3.6.4"
  }
 },
 "nbformat": 4,
 "nbformat_minor": 2
}
