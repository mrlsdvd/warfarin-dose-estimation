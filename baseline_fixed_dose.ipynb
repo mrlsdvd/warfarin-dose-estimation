{
 "cells": [
  {
   "cell_type": "code",
   "execution_count": 1,
   "metadata": {},
   "outputs": [],
   "source": [
    "import numpy as np\n",
    "import pandas"
   ]
  },
  {
   "cell_type": "code",
   "execution_count": 4,
   "metadata": {},
   "outputs": [
    {
     "name": "stdout",
     "output_type": "stream",
     "text": [
      "['Unnamed: 0', 'PharmGKB_Subject_ID', 'Gender', 'Ethnicity', 'Age', 'Height_(cm)', 'Weight_(kg)', 'Indication_for_Warfarin_Treatment', 'Comorbidities', 'Diabetes', 'Congestive_Heart_Failure_and/or_Cardiomyopathy', 'Valve_Replacement', 'Medications', 'Aspirin', 'Acetaminophen_or_Paracetamol_(Tylenol)', 'Was_Dose_of_Acetaminophen_or_Paracetamol_(Tylenol)_>1300mg/day', 'Simvastatin_(Zocor)', 'Atorvastatin_(Lipitor)', 'Fluvastatin_(Lescol)', 'Lovastatin_(Mevacor)', 'Pravastatin_(Pravachol)', 'Rosuvastatin_(Crestor)', 'Cerivastatin_(Baycol)', 'Amiodarone_(Cordarone)', 'Carbamazepine_(Tegretol)', 'Phenytoin_(Dilantin)', 'Rifampin_or_Rifampicin', 'Sulfonamide_Antibiotics', 'Macrolide_Antibiotics', 'Anti-fungal_Azoles', 'Herbal_Medications,_Vitamins,_Supplements', 'Target_INR', 'Estimated_Target_INR_Range_Based_on_Indication', 'Subject_Reached_Stable_Dose_of_Warfarin', 'Therapeutic_Dose_of_Warfarin', 'INR_on_Reported_Therapeutic_Dose_of_Warfarin', 'Current_Smoker', 'Genotyped_QC_Cyp2C9*2', 'Genotyped_QC_Cyp2C9*3', 'Combined_QC_CYP2C9', 'VKORC1_QC_genotype:_-1639_G>A_(3673);_chr16:31015190;_rs9923231;_C/T', 'VKORC1_genotype:_497T>G_(5808);_chr16:31013055;_rs2884737;_A/C', 'VKORC1_QC_genotype:_497T>G_(5808);_chr16:31013055;_rs2884737;_A/C', 'VKORC1_genotype:_1173_C>T(6484);_chr16:31012379;_rs9934438;_A/G', 'VKORC1_QC_genotype:_1173_C>T(6484);_chr16:31012379;_rs9934438;_A/G', 'VKORC1_genotype:_1542G>C_(6853);_chr16:31012010;_rs8050894;_C/G', 'VKORC1_QC_genotype:_1542G>C_(6853);_chr16:31012010;_rs8050894;_C/G', 'VKORC1_genotype:_3730_G>A_(9041);_chr16:31009822;_rs7294;__A/G', 'VKORC1_QC_genotype:_3730_G>A_(9041);_chr16:31009822;_rs7294;__A/G', 'VKORC1_genotype:_2255C>T_(7566);_chr16:31011297;_rs2359612;_A/G', 'VKORC1_QC_genotype:_2255C>T_(7566);_chr16:31011297;_rs2359612;_A/G', 'VKORC1_genotype:_-4451_C>A_(861);_Chr16:31018002;_rs17880887;_A/C', 'VKORC1_QC_genotype:_-4451_C>A_(861);_Chr16:31018002;_rs17880887;_A/C', 'CYP2C9_consensus', 'VKORC1_-1639_consensus', 'VKORC1_497_consensus', 'VKORC1_1173_consensus', 'VKORC1_1542_consensus', 'VKORC1_3730_consensus', 'VKORC1_2255_consensus', 'VKORC1_-4451_consensus', 'Unnamed:_63', 'Unnamed:_64', 'Unnamed:_65', 'VKORC1_A/A', 'VKORC1_A/G', 'VKORC1_G/G', 'VKORC1_nan', 'Cyp2C9_*1/*1', 'Cyp2C9_*1/*11', 'Cyp2C9_*1/*13', 'Cyp2C9_*1/*14', 'Cyp2C9_*1/*2', 'Cyp2C9_*1/*3', 'Cyp2C9_*1/*5', 'Cyp2C9_*1/*6', 'Cyp2C9_*2/*2', 'Cyp2C9_*2/*3', 'Cyp2C9_*3/*3', 'Cyp2C9_nan', 'Race_Asian', 'Race_Black or African American', 'Race_Unknown', 'Race_White', 'Race_nan', 'amiodarone_status', 'enzyme_inducer_status']\n"
     ]
    }
   ],
   "source": [
    "# load data\n",
    "train = pandas.read_csv(\"train.csv\", delimiter=',')\n",
    "val = pandas.read_csv(\"val.csv\", delimiter=',')\n",
    "test = pandas.read_csv(\"test.csv\", delimiter=',')"
   ]
  },
  {
   "cell_type": "code",
   "execution_count": 9,
   "metadata": {},
   "outputs": [
    {
     "ename": "AttributeError",
     "evalue": "'module' object has no attribute 'metrics'",
     "output_type": "error",
     "traceback": [
      "\u001b[0;31m---------------------------------------------------------------------------\u001b[0m",
      "\u001b[0;31mAttributeError\u001b[0m                            Traceback (most recent call last)",
      "\u001b[0;32m<ipython-input-9-0a258b011df0>\u001b[0m in \u001b[0;36m<module>\u001b[0;34m()\u001b[0m\n\u001b[1;32m      9\u001b[0m \u001b[0;34m\u001b[0m\u001b[0m\n\u001b[1;32m     10\u001b[0m \u001b[0;32mimport\u001b[0m \u001b[0msklearn\u001b[0m\u001b[0;34m\u001b[0m\u001b[0m\n\u001b[0;32m---> 11\u001b[0;31m \u001b[0macc\u001b[0m \u001b[0;34m=\u001b[0m \u001b[0msklearn\u001b[0m\u001b[0;34m.\u001b[0m\u001b[0mmetrics\u001b[0m\u001b[0;34m.\u001b[0m\u001b[0maccuracy_score\u001b[0m\u001b[0;34m(\u001b[0m\u001b[0mtrain_true\u001b[0m\u001b[0;34m,\u001b[0m \u001b[0mtrain_pred\u001b[0m\u001b[0;34m)\u001b[0m\u001b[0;34m\u001b[0m\u001b[0m\n\u001b[0m",
      "\u001b[0;31mAttributeError\u001b[0m: 'module' object has no attribute 'metrics'"
     ]
    }
   ],
   "source": [
    "# we will guess 1 for all \n",
    "\n",
    "train_predicted = np.ones((train.shape[0]))\n",
    "val_predicted = np.ones((val.shape[0]))\n",
    "test_predicted = np.ones((test.shape[0]))\n",
    "\n",
    "\n",
    "train_true = train[[\"Therapeutic_Dose_of_Warfarin\"]]\n",
    "\n",
    "import sklearn\n",
    "acc = sklearn.metrics.accuracy_score(train_true, train_pred)"
   ]
  },
  {
   "cell_type": "code",
   "execution_count": null,
   "metadata": {},
   "outputs": [],
   "source": []
  }
 ],
 "metadata": {
  "kernelspec": {
   "display_name": "Python 3",
   "language": "python",
   "name": "python3"
  },
  "language_info": {
   "codemirror_mode": {
    "name": "ipython",
    "version": 2
   },
   "file_extension": ".py",
   "mimetype": "text/x-python",
   "name": "python",
   "nbconvert_exporter": "python",
   "pygments_lexer": "ipython2",
   "version": "2.7.14"
  }
 },
 "nbformat": 4,
 "nbformat_minor": 2
}
