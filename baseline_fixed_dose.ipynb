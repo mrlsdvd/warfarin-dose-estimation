{
 "cells": [
  {
   "cell_type": "code",
   "execution_count": 16,
   "metadata": {},
   "outputs": [],
   "source": [
    "import numpy as np\n",
    "import pandas"
   ]
  },
  {
   "cell_type": "code",
   "execution_count": 17,
   "metadata": {},
   "outputs": [],
   "source": [
    "# load data\n",
    "train = pandas.read_csv(\"train.csv\", delimiter=',')\n",
    "val = pandas.read_csv(\"val.csv\", delimiter=',')\n",
    "test = pandas.read_csv(\"test.csv\", delimiter=',')"
   ]
  },
  {
   "cell_type": "code",
   "execution_count": 18,
   "metadata": {},
   "outputs": [
    {
     "name": "stdout",
     "output_type": "stream",
     "text": [
      "(4422,)\n",
      "(553,)\n",
      "(553,)\n"
     ]
    }
   ],
   "source": [
    "# we will guess 1 (5 mg/day) for all \n",
    "train_predicted = np.ones((train.shape[0]))\n",
    "val_predicted = np.ones((val.shape[0]))\n",
    "test_predicted = np.ones((test.shape[0]))\n",
    "\n",
    "\n",
    "train_true = train[\"Therapeutic_Dose_of_Warfarin\"]\n",
    "val_true = val[\"Therapeutic_Dose_of_Warfarin\"]\n",
    "test_true = test[\"Therapeutic_Dose_of_Warfarin\"]\n",
    "\n",
    "print(train_true.shape)\n",
    "print(val_true.shape)\n",
    "print(test_true.shape)"
   ]
  },
  {
   "cell_type": "code",
   "execution_count": 19,
   "metadata": {},
   "outputs": [
    {
     "name": "stdout",
     "output_type": "stream",
     "text": [
      "train acc: 0.6123925825418363\n",
      "val acc: 0.5895117540687161\n",
      "test acc: 0.6292947558770343\n"
     ]
    }
   ],
   "source": [
    "# compute accuracies\n",
    "\n",
    "from sklearn.metrics import accuracy_score\n",
    "\n",
    "train_acc = accuracy_score(train_true, train_predicted)\n",
    "print(\"train acc: \" + str(train_acc))\n",
    "\n",
    "val_acc = accuracy_score(val_true, val_predicted)\n",
    "print(\"val acc: \" + str(val_acc))\n",
    "\n",
    "test_acc = accuracy_score(test_true, test_predicted)\n",
    "print(\"test acc: \" + str(test_acc))"
   ]
  },
  {
   "cell_type": "code",
   "execution_count": null,
   "metadata": {},
   "outputs": [],
   "source": []
  }
 ],
 "metadata": {
  "kernelspec": {
   "display_name": "Python 2",
   "language": "python",
   "name": "python2"
  },
  "language_info": {
   "codemirror_mode": {
    "name": "ipython",
    "version": 2
   },
   "file_extension": ".py",
   "mimetype": "text/x-python",
   "name": "python",
   "nbconvert_exporter": "python",
   "pygments_lexer": "ipython2",
   "version": "2.7.14"
  }
 },
 "nbformat": 4,
 "nbformat_minor": 2
}
